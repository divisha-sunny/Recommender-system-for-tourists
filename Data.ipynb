{
 "cells": [
  {
   "cell_type": "markdown",
   "metadata": {},
   "source": [
    "## Part 2: Description of the data and how it will be used to solve the problem\n",
    "\n",
    "## Data Requirement 1- Neighbourhood Data\n",
    "#### We will require data of all the neighbourhood in Toronto including longitude and latitude values of borough\n",
    "  ####  1.1- \n",
    "  #### All the Neighbourhood with postal codes are available here https://en.wikipedia.org/wiki/List_of_postal_codes_of_Canada:_M\n",
    "  ####  1.2- \n",
    "  #### All the longitude and latitude values according to postal codes are available here http://cocl.us/Geospatial_data\n",
    "\n",
    "#### Doing some data preprocessing we will get to required format\n",
    "#### 1.3- \n",
    "   #### We will need data about different venues in different neighborhoods of that specific borough. In order to gain that information we will           use **Foursquare** location data. Locational data for each venue means basic and advanced information about that venue. For example there is a      venue in one of the neighborhoods. As basic information, we can obtain its precise latitude and longitude and also its distance from the center of the neighborhood. But we are looking for advanced information such as the category of that venue and whether this venue is a popular one in its category or maybe the average price of the services of this venue.We can also get ratings given to that venue.\n",
    "\n",
    "## Data Requirement 2- User Data\n",
    "#### We will need data about users previously rated venues. For this we will create dummy user profile using actual rating values from other neighbourhoods\n",
    "\n",
    "## Processing the neighbourhood information and user profile created we can make a recommendation table for user. Which we will further use for recommend user where to visit"
   ]
  },
  {
   "cell_type": "code",
   "execution_count": null,
   "metadata": {},
   "outputs": [],
   "source": []
  }
 ],
 "metadata": {
  "kernelspec": {
   "display_name": "Python 3",
   "language": "python",
   "name": "python3"
  },
  "language_info": {
   "codemirror_mode": {
    "name": "ipython",
    "version": 3
   },
   "file_extension": ".py",
   "mimetype": "text/x-python",
   "name": "python",
   "nbconvert_exporter": "python",
   "pygments_lexer": "ipython3",
   "version": "3.6.6"
  }
 },
 "nbformat": 4,
 "nbformat_minor": 2
}
