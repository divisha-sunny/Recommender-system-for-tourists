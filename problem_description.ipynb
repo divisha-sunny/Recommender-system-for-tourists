{
 "cells": [
  {
   "cell_type": "markdown",
   "metadata": {},
   "source": [
    "## Part 1: A description of the problem and a discussion of the background\n",
    "#### Stakeholder wants me to build a recommendation engine for the tourists. Tourists normally want to explore variety of places when to arrive in unexplored region. But tourists also have some kind of inclination towards certain types of venues over the other venues. I want to make a recommendation system where tourists will be recommended based on their preferences.\n",
    "\n",
    "#### Recommended engine is build on an observation that tourist always try to explore places which are nearby first. Let’s consider an example for simplifying things. Bob arrived in Toronto and wants to visit top places in Toronto, If he starts exploring a particular neighbourhood, he wants to finish exploring all good places in that neighbourhood before moving to other neighbourhood.\n",
    "\n",
    "#### Keeping this in mind we have to recommend tourist a neighbourhood, with venues where he can visit.\n",
    "\n",
    "#### NOTE : For this project we will be working on Toronto's Neighbourhood\n"
   ]
  },
  {
   "cell_type": "code",
   "execution_count": null,
   "metadata": {},
   "outputs": [],
   "source": []
  }
 ],
 "metadata": {
  "kernelspec": {
   "display_name": "Python 3",
   "language": "python",
   "name": "python3"
  },
  "language_info": {
   "codemirror_mode": {
    "name": "ipython",
    "version": 3
   },
   "file_extension": ".py",
   "mimetype": "text/x-python",
   "name": "python",
   "nbconvert_exporter": "python",
   "pygments_lexer": "ipython3",
   "version": "3.6.6"
  }
 },
 "nbformat": 4,
 "nbformat_minor": 2
}
